{
 "cells": [
  {
   "cell_type": "markdown",
   "metadata": {},
   "source": [
    " <h1 align = center> Principles of Object Oriented Programming </h1>"
   ]
  },
  {
   "cell_type": "markdown",
   "metadata": {},
   "source": [
    "#### 4 principles\n",
    "- Encapsulation\n",
    "- Abstraction\n",
    "- Inheritance\n",
    "- Polymorphism\n"
   ]
  },
  {
   "cell_type": "markdown",
   "metadata": {},
   "source": [
    "## 1 ENCAPSULATION"
   ]
  },
  {
   "cell_type": "markdown",
   "metadata": {},
   "source": [
    "In encapsulation, the variables of a class can be made hidden from other classes, and can be accessed only through the methods of their current class. Therefore, it is also known as data hiding.\n",
    "<br><br>\n",
    "Encapsulation can be described as a protective barrier that prevents the code and data being randomly accessed by other code defined outside the class. Access to the data and code is tightly controlled by a class."
   ]
  },
  {
   "cell_type": "code",
   "execution_count": 16,
   "metadata": {},
   "outputs": [],
   "source": [
    "from datetime import timedelta, date\n",
    "from IPython.display import Image\n",
    "import requests\n",
    "from time import sleep\n",
    "\n",
    "generic_image = 'codeflix.png'\n"
   ]
  },
  {
   "cell_type": "code",
   "execution_count": 17,
   "metadata": {},
   "outputs": [],
   "source": [
    "# attributes from instances are unique to that instance\n",
    "# attributes are protected and only to be accessed by class methods\n",
    "class Video():\n",
    "    \n",
    "    def __init__(self):\n",
    "        self.title = None\n",
    "        self.length = timedelta() \n",
    "        self.link = generic_image\n",
    "        \n",
    "    def play(self):\n",
    "        print(f\"now playing {self.title}\")\n",
    "        display(Image(self.link))\n",
    "    def pause(self):\n",
    "        print(\"video paused\")\n",
    "        \n",
    "    def __repr__(self):\n",
    "        return f\"{self.title} is {self.length.seconds} seconds long. \"\n",
    "    \n",
    "        \n",
    "    "
   ]
  },
  {
   "cell_type": "markdown",
   "metadata": {},
   "source": [
    "## 2 ABSTRACTION"
   ]
  },
  {
   "cell_type": "markdown",
   "metadata": {},
   "source": [
    "Abstraction is a process of hiding the implementation details from the user, only the functionality will be provided to the user. We have a bit to do before this becomes visible. But you've seen it before with presenting the user with the option to enter inputs. We then take those input and do something with them.\n",
    "<br><br>\n"
   ]
  },
  {
   "cell_type": "code",
   "execution_count": 18,
   "metadata": {},
   "outputs": [],
   "source": [
    "class Episode(Video):\n",
    "    def __init__(self,data):\n",
    "        Video.__init__(self)\n",
    "        self.number = data['number']\n",
    "        self.season = data['season']\n",
    "        self.date_aired = data['airdate']\n",
    "        self.summary = data['summary']\n",
    "        self.rating = data['rating']['average']\n",
    "        self.title = data['name']\n",
    "        self.length = timedelta(minutes = data['runtime'])\n",
    "        if data['image']:\n",
    "            self.link = data['image']['medium']\n",
    "        else:\n",
    "            self.link = generic_image"
   ]
  },
  {
   "cell_type": "markdown",
   "metadata": {},
   "source": [
    "## 3 INHERITENCE"
   ]
  },
  {
   "cell_type": "markdown",
   "metadata": {},
   "source": [
    "Inheritance can be defined as the process where one class acquires the properties (methods and fields) of another.\n",
    "<br>\n",
    "<i>(see above)</i>"
   ]
  },
  {
   "cell_type": "code",
   "execution_count": 25,
   "metadata": {},
   "outputs": [],
   "source": [
    "# class Episode(Video):\n",
    "#     def __init__(self, data): #<-- add data for passing in our ep\n",
    "#         Video.__init__(self)\n",
    "#         self.number = data['number']\n",
    "#         self.season = data['season']\n",
    "#         self.date_aired = data['airdate']\n",
    "#         self.summary = data['summary']\n",
    "#         self.rating = data['rating']['average']\n",
    "#         self.title = data['name']\n",
    "#         self.length = timedelta(minutes = data['runtime'])\n",
    "#         if data['image']: \n",
    "#             self.link = data['image']['medium']\n",
    "#         else:\n",
    "#             self.link = generic_image\n",
    "            \n",
    "            \n",
    "class Series():\n",
    "    def __init__(self):\n",
    "        self.id = None\n",
    "        self.network = None\n",
    "        self.seasons = None\n",
    "        self.summary = None\n",
    "        self.title = None\n",
    "        self.genres = []\n",
    "        self.episodes = []\n",
    "        \n",
    "    def get_info(self, query = \"\"):\n",
    "        data = None #<-- in case the show doesn't come back\n",
    "        while not data:\n",
    "            if not query:\n",
    "                query = input(\"What is the name of the series?\")\n",
    "                r = requests.get(f'https://api.tvmaze.com/singlesearch/shows?q={query}')\n",
    "                if r.status_code == 200:\n",
    "                    data = r.json()\n",
    "                    print(data)\n",
    "                else:\n",
    "                    print(f\"Series error: status code {r.status_code}\")\n",
    "                    query = \"\"\n",
    "                    \n",
    "            else:\n",
    "                r = requests.get(f'https://api.tvmaze.com/singlesearch/shows?q={query}')\n",
    "                if r.status_code == 200:\n",
    "                    data = r.json()\n",
    "                else:\n",
    "                    print(f\"Series Error: status code: {r.status_code}\")\n",
    "                    query = ''\n",
    "            \n",
    "                    \n",
    "        # Use data to build out our attributes\n",
    "        self.id = data['id']\n",
    "        self.title = data['name']\n",
    "        self.summary = data['summary']\n",
    "        self.genres = [genre for genre in data['genres']]\n",
    "        if data['network']:\n",
    "            self.network = data['network']['name']\n",
    "        else:\n",
    "            self.network = data['webChannel']['name']\n",
    "            \n",
    "        # API call for Episodes\n",
    "        r = requests.get(f'https://api.tvmaze.com/shows/{self.id}/episodes')\n",
    "        if r.status_code == 200:\n",
    "            episodes = r.json()\n",
    "        else:\n",
    "            print(f\"Episode erros: status code {r.status_code}\")\n",
    "            return\n",
    "        self.seasons = episodes[-1]['season']\n",
    "        self.episodes = [Episode(ep) for ep in episodes]\n",
    "        print(f\"{self.title} has {len(self.episodes)} episodes.\")\n",
    "        \n",
    "    def watch(self):\n",
    "        for i in range(len(self.episodes)):\n",
    "            if i > 0 and i % 3 == 0:\n",
    "                watching = input(\"Are you still watching? also get a job y/n\")\n",
    "                if watching.lower().strip() not in ('yes', 'y'):\n",
    "                    break\n",
    "            self.episodes[i].play()\n",
    "            sleep(self.episodes[i].length.seconds/1000)\n",
    "            \n",
    "    def __len__(self):\n",
    "        return len(self.episodes)\n",
    "    \n",
    "    def __repr__(self):\n",
    "        return f\"Title: {self.title}\"\n",
    "        "
   ]
  },
  {
   "cell_type": "code",
   "execution_count": 26,
   "metadata": {},
   "outputs": [
    {
     "name": "stdout",
     "output_type": "stream",
     "text": [
      "What is the name of the series?scrubs\n",
      "{'id': 532, 'url': 'https://www.tvmaze.com/shows/532/scrubs', 'name': 'Scrubs', 'type': 'Scripted', 'language': 'English', 'genres': ['Drama', 'Comedy', 'Medical'], 'status': 'Ended', 'runtime': 30, 'averageRuntime': 30, 'premiered': '2001-10-02', 'ended': '2010-03-17', 'officialSite': 'http://abc.go.com/', 'schedule': {'time': '20:00', 'days': ['Wednesday']}, 'rating': {'average': 8.6}, 'weight': 96, 'network': {'id': 3, 'name': 'ABC', 'country': {'name': 'United States', 'code': 'US', 'timezone': 'America/New_York'}, 'officialSite': 'https://abc.com/'}, 'webChannel': None, 'dvdCountry': None, 'externals': {'tvrage': 5118, 'thetvdb': 76156, 'imdb': 'tt0285403'}, 'image': {'medium': 'https://static.tvmaze.com/uploads/images/medium_portrait/4/11371.jpg', 'original': 'https://static.tvmaze.com/uploads/images/original_untouched/4/11371.jpg'}, 'summary': '<p>Fresh out of medical school, new doctors John \"J.D.\" Dorian, his best friend Christopher Turk, and Elliot Reid start their internship at Sacred Heart Hospital. There, they meet the harsh Chief of Medicine Dr. Bob Kelso, J.D.\\'s reluctant mentor Dr. Perry Cox, nurse Carla Espinosa, and the deceitful and prankish Janitor. Also at the hospital are the wide range of personalities of Sacred Heart\\'s staff, including the religious nurse Laverne Roberts, incompetent lawyer Ted Buckland, and spiteful board member Jordan Sullivan who also happens to be Cox\\'s ex-wife. Other interns make the cut, such as the high-fiving Todd Quinlan and nervous Doug Murphy. Over the next 9 years they face personal and professional highs and lows, realizing that they can\\'t make it through life - much less a hectic job as a doctor - on their own.</p>', 'updated': 1645334361, '_links': {'self': {'href': 'https://api.tvmaze.com/shows/532'}, 'previousepisode': {'href': 'https://api.tvmaze.com/episodes/48463'}}}\n",
      "Scrubs has 182 episodes.\n"
     ]
    }
   ],
   "source": [
    "first_show = Series()\n",
    "first_show.get_info()"
   ]
  },
  {
   "cell_type": "code",
   "execution_count": 21,
   "metadata": {},
   "outputs": [
    {
     "data": {
      "text/plain": [
       "182"
      ]
     },
     "execution_count": 21,
     "metadata": {},
     "output_type": "execute_result"
    }
   ],
   "source": [
    "len(first_show)"
   ]
  },
  {
   "cell_type": "markdown",
   "metadata": {},
   "source": [
    "## 4 POLYMORPHISM"
   ]
  },
  {
   "cell_type": "markdown",
   "metadata": {},
   "source": [
    "In object-oriented programming, polymorphism (from the Greek meaning “having multiple forms”) is the characteristic of being able to assign a different meaning or usage to something in different contexts — specifically, to allow an entity such as a function, or an object to have more than one form.\n",
    "<br><br>\n"
   ]
  },
  {
   "cell_type": "code",
   "execution_count": 27,
   "metadata": {},
   "outputs": [
    {
     "name": "stdout",
     "output_type": "stream",
     "text": [
      "now playing My First Day\n"
     ]
    },
    {
     "data": {
      "image/jpeg": "[encoded data removed]",
      "text/plain": [
       "<IPython.core.display.Image object>"
      ]
     },
     "metadata": {},
     "output_type": "display_data"
    },
    {
     "name": "stdout",
     "output_type": "stream",
     "text": [
      "now playing My Mentor\n"
     ]
    },
    {
     "data": {
      "image/jpeg": "[encoded data removed]",
      "text/plain": [
       "<IPython.core.display.Image object>"
      ]
     },
     "metadata": {},
     "output_type": "display_data"
    },
    {
     "name": "stdout",
     "output_type": "stream",
     "text": [
      "now playing My Best Friend's Mistake\n"
     ]
    },
    {
     "data": {
      "image/jpeg": "[encoded data removed]",
      "text/plain": [
       "<IPython.core.display.Image object>"
      ]
     },
     "metadata": {},
     "output_type": "display_data"
    },
    {
     "name": "stdout",
     "output_type": "stream",
     "text": [
      "Are you still watching? also get a job y/nn\n"
     ]
    }
   ],
   "source": [
    "first_show.watch()"
   ]
  },
  {
   "cell_type": "code",
   "execution_count": 28,
   "metadata": {},
   "outputs": [
    {
     "name": "stdout",
     "output_type": "stream",
     "text": [
      "What is the name of the series?one piece\n",
      "{'id': 1505, 'url': 'https://www.tvmaze.com/shows/1505/one-piece', 'name': 'One Piece', 'type': 'Animation', 'language': 'Japanese', 'genres': ['Action', 'Adventure', 'Anime', 'Fantasy'], 'status': 'Running', 'runtime': 25, 'averageRuntime': 26, 'premiered': '1999-10-20', 'ended': None, 'officialSite': 'http://www.toei-anim.co.jp/tv/onep/', 'schedule': {'time': '09:30', 'days': ['Sunday']}, 'rating': {'average': 8.9}, 'weight': 98, 'network': {'id': 131, 'name': 'Fuji TV', 'country': {'name': 'Japan', 'code': 'JP', 'timezone': 'Asia/Tokyo'}, 'officialSite': None}, 'webChannel': None, 'dvdCountry': None, 'externals': {'tvrage': 8205, 'thetvdb': 81797, 'imdb': 'tt0388629'}, 'image': {'medium': 'https://static.tvmaze.com/uploads/images/medium_portrait/405/1014967.jpg', 'original': 'https://static.tvmaze.com/uploads/images/original_untouched/405/1014967.jpg'}, 'summary': '<p><b>One Piece</b> animation is based on the successful comic by Eiichiro Oda. The comic has sold more than 260 million copies. The success doesn\\'t stop; the <i>One Piece</i> animation series is in its top 5 TV ratings for kids programs in Japan for past few years and the series\\' most recent feature film title <i>\"One Piece Film Z\" </i>which was released on December 2012 has gathered 5.6 million viewers so far. The success goes beyond borders; receives high popularity on animation at terrestrial channel in Taiwan, no.1 rating on animation at a DTT channel in France, received high popularity among age 3-13 on a terrestrial channel in Germany in year 2010. The animation series has been broadcasted in many parts of the world: USA, UK, Australia, France, Spain, Portugal, Germany, Italy, Greece, Turkey, Israel, South Korea, Taiwan, China, Hong Kong, Philippine, Thailand, Singapore, Malaysia, Indonesia, Ecuador, Nicaragua, Chile, Mexico, Brazil, and etc.</p>', 'updated': 1673189513, '_links': {'self': {'href': 'https://api.tvmaze.com/shows/1505'}, 'previousepisode': {'href': 'https://api.tvmaze.com/episodes/2446604'}, 'nextepisode': {'href': 'https://api.tvmaze.com/episodes/2464810'}}}\n",
      "One Piece has 1047 episodes.\n"
     ]
    }
   ],
   "source": [
    "show_2 = Series()\n",
    "show_2.get_info()"
   ]
  },
  {
   "cell_type": "code",
   "execution_count": 29,
   "metadata": {},
   "outputs": [
    {
     "name": "stdout",
     "output_type": "stream",
     "text": [
      "now playing I'm Luffy! The Man Who Will Become the Pirate King!\n"
     ]
    },
    {
     "data": {
      "image/jpeg": "[encoded data removed]",
      "text/plain": [
       "<IPython.core.display.Image object>"
      ]
     },
     "metadata": {},
     "output_type": "display_data"
    },
    {
     "name": "stdout",
     "output_type": "stream",
     "text": [
      "now playing The Great Swordsman Appears! Pirate Hunter Roronoa Zoro\n"
     ]
    },
    {
     "data": {
      "image/jpeg": "[encoded data removed]",
      "text/plain": [
       "<IPython.core.display.Image object>"
      ]
     },
     "metadata": {},
     "output_type": "display_data"
    },
    {
     "name": "stdout",
     "output_type": "stream",
     "text": [
      "now playing Morgan versus Luffy! Who's the Mysterious Pretty Girl?\n"
     ]
    },
    {
     "data": {
      "image/jpeg": "[encoded data removed]",
      "text/plain": [
       "<IPython.core.display.Image object>"
      ]
     },
     "metadata": {},
     "output_type": "display_data"
    },
    {
     "name": "stdout",
     "output_type": "stream",
     "text": [
      "Are you still watching? also get a job y/nn\n"
     ]
    }
   ],
   "source": [
    "show_2.watch()"
   ]
  },
  {
   "cell_type": "code",
   "execution_count": 30,
   "metadata": {},
   "outputs": [],
   "source": [
    "class Theater:\n",
    "    def __init__(self):\n",
    "        self.users = []\n",
    "        self.watch_list = []\n",
    "        self.current_user = None\n",
    "        \n",
    "    # add a user\n",
    "    def add_user(self, name = ''):\n",
    "        if not name:\n",
    "            name = input(\"What is the name of the new user? \")\n",
    "        self.users.append(name.title())\n",
    "        self.choose_user()\n",
    "        \n",
    "    # choose a user\n",
    "    def choose_user(self):\n",
    "        while True:\n",
    "            print(\"Users: \")\n",
    "            for user in self.users:\n",
    "                print(user)\n",
    "            current = input(\"Choose a user: \")\n",
    "            if current.title() in self.users:\n",
    "                self.current_user = current\n",
    "                break\n",
    "            else:\n",
    "                print(f\"{current} is not a valid user. \")\n",
    "                \n",
    "    #add to watchlist \n",
    "    def add_to_watch_list(self, query = \"\"):\n",
    "        show = Series()\n",
    "        \n",
    "        show.get_info(query)\n",
    "        self.watch_list.append(show)\n",
    "        \n",
    "        print(f\"{show.title} has been added to the watchlist! \")\n",
    "        \n",
    "    # choose from our watchlist\n",
    "    def choose_from_watch_list(self):\n",
    "        for series in self.watch_list:\n",
    "            print(f\"\\n\\n{series} | Episodes: {len(series)}\")\n",
    "            print(f\"\\nSummary: \\n {series.summary}\")\n",
    "            display(Image(series.episodes[0].link))\n",
    "            \n",
    "        watch = input(\"What would you like to watch? \")\n",
    "        if watch.lower() in list(map(lambda x: x.title.lower(), self.watch_list)):\n",
    "            for series in self.watch_list:\n",
    "                if series.title.lower() == watch.lower().strip():\n",
    "                    series.play_show()\n",
    "        \n",
    "        else:\n",
    "            response = input(f\"{watch} is not in your watch list.... would you like to add it y/n?\")\n",
    "            \n",
    "            if response in ('yes', 'y'):\n",
    "                self.add_to_watch_list(watch)\n",
    "                \n",
    "                print(\"...........\")\n",
    "                sleep(2)\n",
    "                print(\"...........\")\n",
    "                self.watch_list[-1].play_show()\n",
    "                \n",
    "    # run function to drive program\n",
    "    def run(self):\n",
    "        \"\"\"\n",
    "        Method Allowing users to choose a series and play episodes\n",
    "        \"\"\"\n",
    "        display(Image(generic_image))\n",
    "        \n",
    "        if self.users:\n",
    "            self.choose_user()\n",
    "        else:\n",
    "            name = input(\"Create a profile: \")\n",
    "            self.add_user(name)\n",
    "            self.current_user = name\n",
    "            \n",
    "            print(\"\"\"\n",
    "                What would you like to do?\n",
    "                \n",
    "                Search - Search for shows\n",
    "                Watch - Pick something from your watch list\n",
    "                Add - add a new user\n",
    "                Quit - close the application            \n",
    "            \"\"\")\n",
    "            \n",
    "        while True: \n",
    "            response = input(\"What would you like to do? (search, watch, add, quit) \")\n",
    "            \n",
    "            if response.lower() == \"search\":\n",
    "                self.add_to_watch_list()\n",
    "            elif response.lower() == \"watch\":\n",
    "                self.choose_from_watch_list()\n",
    "            elif response.lower() == \"add\":\n",
    "                self.add_user()\n",
    "            elif response.lower() == \"quit\":\n",
    "                print(f\"Thanks for watching! {self.current_user}! Now go outside! \")\n",
    "                break\n",
    "                \n",
    "            else:\n",
    "                print(\"Invalid input, please choose from the list! \")\n",
    "    \n"
   ]
  },
  {
   "cell_type": "code",
   "execution_count": null,
   "metadata": {},
   "outputs": [],
   "source": [
    "\n",
    "        "
   ]
  },
  {
   "cell_type": "markdown",
   "metadata": {},
   "source": [
    "##  Exercise 1:\n",
    "Discuss what other classes we could make to improve our streaming service using these principles. <br> <br>\n",
    "Start making a few of them and see where it leads..."
   ]
  },
  {
   "cell_type": "code",
   "execution_count": null,
   "metadata": {},
   "outputs": [],
   "source": []
  }
 ],
 "metadata": {
  "kernelspec": {
   "display_name": "Python 3 (ipykernel)",
   "language": "python",
   "name": "python3"
  },
  "language_info": {
   "codemirror_mode": {
    "name": "ipython",
    "version": 3
   },
   "file_extension": ".py",
   "mimetype": "text/x-python",
   "name": "python",
   "nbconvert_exporter": "python",
   "pygments_lexer": "ipython3",
   "version": "3.9.4"
  }
 },
 "nbformat": 4,
 "nbformat_minor": 4
}
