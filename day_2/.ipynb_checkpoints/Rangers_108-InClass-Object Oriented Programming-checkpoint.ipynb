{
 "cells": [
  {
   "cell_type": "markdown",
   "metadata": {},
   "source": [
    "# Object-Oriented-Programming (OOP)"
   ]
  },
  {
   "cell_type": "markdown",
   "metadata": {},
   "source": [
    "## Tasks Today:\n",
    "\n",
    "   \n",
    "\n",
    "1) <b>Creating a Class (Initializing/Declaring)</b> <br>\n",
    "2) <b>Using a Class (Instantiating)</b> <br>\n",
    " &nbsp;&nbsp;&nbsp;&nbsp; a) Creating One Instance <br>\n",
    " &nbsp;&nbsp;&nbsp;&nbsp; b) Creating Multiple Instances <br>\n",
    " &nbsp;&nbsp;&nbsp;&nbsp; c) In-Class Exercise #1 - Create a Class 'Car' and instantiate three different makes of cars <br>\n",
    "3) <b>The \\__init\\__() Method</b> <br>\n",
    " &nbsp;&nbsp;&nbsp;&nbsp; a) The 'self' Attribute <br>\n",
    "4) <b>Class Attributes</b> <br>\n",
    " &nbsp;&nbsp;&nbsp;&nbsp; a) Initializing Attributes <br>\n",
    " &nbsp;&nbsp;&nbsp;&nbsp; b) Setting an Attribute Outside of the \\__init\\__() Method <br>\n",
    " &nbsp;&nbsp;&nbsp;&nbsp; c) Setting Defaults for Attributes <br>\n",
    " &nbsp;&nbsp;&nbsp;&nbsp; d) Accessing Class Attributes <br>\n",
    " &nbsp;&nbsp;&nbsp;&nbsp; e) Changing Class Attributes <br>\n",
    " &nbsp;&nbsp;&nbsp;&nbsp; f) In-Class Exercise #2 - Add a color and wheels attribute to your 'Car' class <br>\n",
    "5) <b>Class Methods</b> <br>\n",
    " &nbsp;&nbsp;&nbsp;&nbsp; a) Creating <br>\n",
    " &nbsp;&nbsp;&nbsp;&nbsp; b) Calling <br>\n",
    " &nbsp;&nbsp;&nbsp;&nbsp; c) Modifying an Attribute's Value Through a Method <br>\n",
    " &nbsp;&nbsp;&nbsp;&nbsp; d) Incrementing an Attribute's Value Through a Method <br>\n",
    " &nbsp;&nbsp;&nbsp;&nbsp; e) In-Class Exercise #3 - Add a method that prints the cars color and wheel number, then call them <br>\n",
    "6) <b>Inheritance</b> <br>\n",
    " &nbsp;&nbsp;&nbsp;&nbsp; a) Syntax for Inheriting from a Parent Class <br>\n",
    " &nbsp;&nbsp;&nbsp;&nbsp; b) The \\__init\\__() Method for a Child Class (super()) <br>\n",
    " &nbsp;&nbsp;&nbsp;&nbsp; c) Defining Attributes and Methods for the Child Class <br>\n",
    " &nbsp;&nbsp;&nbsp;&nbsp; d) Method Overriding <br>\n",
    " &nbsp;&nbsp;&nbsp;&nbsp; e) In-Class Exercise #4 - Create a class 'Ford' that inherits from 'Car' class and initialize it as a Blue Ford Explorer with 4 wheels using the super() method <br>\n",
    "7) <b>Classes as Attributes</b> <br>\n",
    "8) <b>Exercises</b> <br>\n",
    " &nbsp;&nbsp;&nbsp;&nbsp; a) Exercise #1 - Turn the shopping cart program from last week into an object-oriented program <br>"
   ]
  },
  {
   "cell_type": "markdown",
   "metadata": {},
   "source": [
    "## Creating a Class (Initializing/Declaring)\n",
    "<p>When creating a class, function, or even a variable you are initializing that object. Initializing and Declaring occur at the same time in Python, whereas in lower level languages you have to declare an object before initializing it. This is the first step in the process of using a class.</p>"
   ]
  },
  {
   "cell_type": "code",
   "execution_count": 8,
   "metadata": {},
   "outputs": [
    {
     "name": "stdout",
     "output_type": "stream",
     "text": [
      "<class 'type'>\n"
     ]
    }
   ],
   "source": [
    "class Car():\n",
    "    wheels = 4\n",
    "    color = 'blue'    \n",
    "print(type(Car))\n",
    "\n",
    "\n",
    "    \n",
    "    \n"
   ]
  },
  {
   "cell_type": "markdown",
   "metadata": {},
   "source": [
    "## Using a Class (Instantiating)\n",
    "<p>The process of creating a class is called <i>Instantiating</i>. Each time you create a variable of that type of class, it is referred to as an <i>Instance</i> of that class. This is the second step in the process of using a class.</p>"
   ]
  },
  {
   "cell_type": "markdown",
   "metadata": {},
   "source": [
    "##### Creating One Instance"
   ]
  },
  {
   "cell_type": "code",
   "execution_count": 5,
   "metadata": {},
   "outputs": [
    {
     "name": "stdout",
     "output_type": "stream",
     "text": [
      "<class '__main__.Car'>\n",
      "4\n"
     ]
    }
   ],
   "source": [
    "ford = Car()\n",
    "print(type(ford))\n",
    "print(ford.wheels)\n",
    "\n",
    "\n",
    "\n"
   ]
  },
  {
   "cell_type": "markdown",
   "metadata": {},
   "source": [
    "##### Creating Multiple Instances"
   ]
  },
  {
   "cell_type": "code",
   "execution_count": 9,
   "metadata": {},
   "outputs": [
    {
     "name": "stdout",
     "output_type": "stream",
     "text": [
      "blue\n",
      "4\n",
      "blue\n"
     ]
    }
   ],
   "source": [
    "mazda = Car()\n",
    "print(mazda.color)\n",
    "honda = Car()\n",
    "print(honda.wheels)\n",
    "chevy = Car()\n",
    "print(chevy.color\n"
   ]
  },
  {
   "cell_type": "markdown",
   "metadata": {},
   "source": [
    "##### In-Class Exercise #1 - Create a Class 'Car' and Instantiate three different makes of cars"
   ]
  },
  {
   "cell_type": "code",
   "execution_count": 22,
   "metadata": {},
   "outputs": [
    {
     "name": "stdout",
     "output_type": "stream",
     "text": [
      "The Audi is a 2019 A4.\n",
      "The JEEP is a 2017 Wrangler.\n",
      "The Kia is a 2022 Telluride.\n"
     ]
    }
   ],
   "source": [
    "class Car():\n",
    "    def __init__(self, wheels, color, doors, model, year):\n",
    "        self.wheels = wheels\n",
    "        self.color = color\n",
    "        self.doors = doors\n",
    "        self.model = model\n",
    "        self.year = year\n",
    "\n",
    "audi = Car(4, \"black\", 4, \"A4\", 2019)\n",
    "jeep = Car(4, \"white\", 4, \"Wrangler\", 2017)\n",
    "kia = Car(4, \"black\", 4, \"Telluride\", 2022)\n",
    "\n",
    "print(f\"The Audi is a {audi.year} {audi.model}.\")\n",
    "print(f\"The JEEP is a {jeep.year} {jeep.model}.\")\n",
    "print(f\"The Kia is a {kia.year} {kia.model}.\")\n"
   ]
  },
  {
   "cell_type": "code",
   "execution_count": 23,
   "metadata": {},
   "outputs": [
    {
     "name": "stdout",
     "output_type": "stream",
     "text": [
      "Make: Hyundai\n",
      "Model: Ionic 5\n",
      "Body Style: Compact SUV\n",
      "Number of Doors: 4\n",
      "Power Source: EV\n",
      "Year: 2023\n"
     ]
    }
   ],
   "source": [
    "class Car():\n",
    "    def __init__(self, make, model, body_style, doors, power_source, year):\n",
    "        self.make = make\n",
    "        self.model = model\n",
    "        self.body_style = body_style\n",
    "        self.doors = doors\n",
    "        self.power_source = power_source\n",
    "        self.year = year\n",
    "        \n",
    "new_car = Car(\"Hyundai\", \"Ionic 5\", \"Compact SUV\", 4, \"EV\", \"2023\")\n",
    "\n",
    "print(f\"Make: {new_car.make}\")\n",
    "print(f\"Model: {new_car.model}\")\n",
    "print(f\"Body Style: {new_car.body_style}\")\n",
    "print(f\"Number of Doors: {new_car.doors}\")\n",
    "print(f\"Power Source: {new_car.power_source}\")\n",
    "print(f\"Year: {new_car.year}\")\n"
   ]
  },
  {
   "cell_type": "code",
   "execution_count": 24,
   "metadata": {},
   "outputs": [
    {
     "name": "stdout",
     "output_type": "stream",
     "text": [
      "white 2011 Honda Civic\n",
      "silver 2020 Jeep Cherokee\n",
      "black 2017 Toyota RAV4\n"
     ]
    }
   ],
   "source": [
    "class Car():\n",
    "    def __init__(self, make, model, year, color):\n",
    "        self.make = make\n",
    "        self.model = model\n",
    "        self.year = year\n",
    "        self.color = color\n",
    "\n",
    "car_1 = Car(\"Honda\", \"Civic\", 2011, \"white\")\n",
    "car_2 = Car(\"Jeep\", \"Cherokee\", 2020, \"silver\" )\n",
    "car_3 = Car(\"Toyota\", \"RAV4\", 2017, \"black\")\n",
    "\n",
    "print(car_1.color, car_1.year, car_1.make, car_1.model)\n",
    "print(car_2.color, car_2.year, car_2.make, car_2.model)\n",
    "print(car_3.color, car_3.year, car_3.make, car_3.model)\n"
   ]
  },
  {
   "cell_type": "markdown",
   "metadata": {},
   "source": [
    "## The \\__init\\__() Method <br>\n",
    "<p>This method is used in almost every created class, and called only once upon the creation of the class instance. This method will initialize all variables needed for the object.</p>"
   ]
  },
  {
   "cell_type": "code",
   "execution_count": 25,
   "metadata": {},
   "outputs": [
    {
     "name": "stdout",
     "output_type": "stream",
     "text": [
      "4\n",
      "blue\n",
      "red\n",
      "4.7L\n"
     ]
    }
   ],
   "source": [
    "class Car():\n",
    "    ENGINE = \"4.7L\" #constant in all caps, not likely to change across instances\n",
    "    def __init__(self, wheels, color, doors):\n",
    "        self.wheels = wheels\n",
    "        self.color = color\n",
    "        self.doors = doors\n",
    "        \n",
    "ford = Car(4, \"blue\", 2)\n",
    "print(ford.wheels)\n",
    "print(ford.color)\n",
    "mazda = Car(4, \"red\", 6)\n",
    "print(mazda.color)\n",
    "\n",
    "print(ford.ENGINE)"
   ]
  },
  {
   "cell_type": "markdown",
   "metadata": {},
   "source": [
    "##### The 'self' Attribute <br>\n",
    "<p>This attribute is required to keep track of specific instance's attributes. Without the self attribute, the program would not know how to reference or keep track of an instance's attributes.</p>"
   ]
  },
  {
   "cell_type": "code",
   "execution_count": 26,
   "metadata": {},
   "outputs": [
    {
     "name": "stdout",
     "output_type": "stream",
     "text": [
      "self is referencing the object <__main__.Pokemon object at 0x0000020E2DB540A0>, Charmander\n",
      "fire\n"
     ]
    }
   ],
   "source": [
    "class Pokemon():\n",
    "    def __init__(self, name, type_):\n",
    "        #self is going to hold the place of the object we instantiate\n",
    "        self.name = name\n",
    "        self.type_ = type_\n",
    "        print(f\"self is referencing the object {self}, {self.name}\")\n",
    "        print(self.type_)\n",
    "charmander = Pokemon(\"Charmander\", \"fire\")"
   ]
  },
  {
   "cell_type": "markdown",
   "metadata": {},
   "source": [
    "## Class Attributes <br>\n",
    "<p>While variables are inside of a class, they are referred to as attributes and not variables. When someone says 'attribute' you know they're speaking about a class. Attributes can be initialized through the init method, or outside of it.</p>"
   ]
  },
  {
   "cell_type": "markdown",
   "metadata": {},
   "source": [
    "##### Initializing Attributes"
   ]
  },
  {
   "cell_type": "code",
   "execution_count": 28,
   "metadata": {},
   "outputs": [
    {
     "name": "stdout",
     "output_type": "stream",
     "text": [
      "self is referencing the object <__main__.Pokemon object at 0x0000020E2DA8E340>, Squirtle\n",
      "Water\n"
     ]
    }
   ],
   "source": [
    "squirtle = Pokemon(\"Squirtle\", \"Water\")"
   ]
  },
  {
   "cell_type": "markdown",
   "metadata": {},
   "source": [
    "##### Accessing Class Attributes"
   ]
  },
  {
   "cell_type": "code",
   "execution_count": 32,
   "metadata": {
    "scrolled": true
   },
   "outputs": [
    {
     "name": "stdout",
     "output_type": "stream",
     "text": [
      "Squirtle\n",
      "Water\n",
      "{'name': 'Squirtle', 'type_': 'Water'}\n"
     ]
    }
   ],
   "source": [
    "print(squirtle.name)\n",
    "print(squirtle.type_)\n",
    "\n",
    "print(squirtle.__dict__)"
   ]
  },
  {
   "cell_type": "markdown",
   "metadata": {},
   "source": [
    "##### Setting Defaults for Attributes"
   ]
  },
  {
   "cell_type": "code",
   "execution_count": 49,
   "metadata": {},
   "outputs": [
    {
     "name": "stdout",
     "output_type": "stream",
     "text": [
      "4\n",
      "Blue\n"
     ]
    }
   ],
   "source": [
    "class Car():\n",
    "    def __init__(self, wheels):\n",
    "        self.wheels = wheels\n",
    "        self.color = \"Blue\"\n",
    "        \n",
    "honda = Car(4)\n",
    "print(honda.wheels)\n",
    "print(honda.color)"
   ]
  },
  {
   "cell_type": "code",
   "execution_count": 50,
   "metadata": {},
   "outputs": [
    {
     "name": "stdout",
     "output_type": "stream",
     "text": [
      "4\n",
      "green\n"
     ]
    }
   ],
   "source": [
    "class Car():\n",
    "    def __init__(self, wheels, color = \"Blue\"):\n",
    "        self.wheels = wheels\n",
    "        self.color = color\n",
    "        \n",
    "ford = Car(4, \"green\")\n",
    "print(ford.wheels)\n",
    "print(ford.color)"
   ]
  },
  {
   "cell_type": "markdown",
   "metadata": {},
   "source": [
    "##### Changing Class Attributes <br>\n",
    "<p>Keep in mind there are global class attributes and then there are attributes only available to each class instance which won't effect other classes.</p>"
   ]
  },
  {
   "cell_type": "code",
   "execution_count": 47,
   "metadata": {},
   "outputs": [
    {
     "name": "stdout",
     "output_type": "stream",
     "text": [
      "Before attribute change Blue\n",
      "After attribute change white\n"
     ]
    }
   ],
   "source": [
    "#Change the default attribute\n",
    "print(f\"Before attribute change {honda.color}\")\n",
    "honda.color = \"white\"\n",
    "print(f\"After attribute change {honda.color}\")"
   ]
  },
  {
   "cell_type": "code",
   "execution_count": 51,
   "metadata": {},
   "outputs": [
    {
     "name": "stdout",
     "output_type": "stream",
     "text": [
      "before attribute change: green\n",
      "after attribute change: Orange\n"
     ]
    }
   ],
   "source": [
    "print(f\"before attribute change: {ford.color}\")\n",
    "ford.color = \"Orange\"\n",
    "print(f\"after attribute change: {ford.color}\")"
   ]
  },
  {
   "cell_type": "code",
   "execution_count": 52,
   "metadata": {},
   "outputs": [
    {
     "name": "stdout",
     "output_type": "stream",
     "text": [
      "Orange\n"
     ]
    }
   ],
   "source": [
    "print(ford.color)"
   ]
  },
  {
   "cell_type": "markdown",
   "metadata": {},
   "source": [
    "##### In-Class Exercise #2 - Add a doors and seats attribute to your 'Car' class then print out two different instances with different doors and seats"
   ]
  },
  {
   "cell_type": "code",
   "execution_count": 53,
   "metadata": {},
   "outputs": [
    {
     "name": "stdout",
     "output_type": "stream",
     "text": [
      "{'make': 'Hyundai', 'model': 'Ionic 5', 'body_style': 'Compact SUV', 'doors': 4, 'seats': 4, 'power_source': 'EV', 'year': '2023'}\n",
      "\n",
      "\n",
      "{'make': 'Hyundai', 'model': 'Ionic 5', 'body_style': 'Compact SUV', 'doors': 2, 'seats': 2, 'power_source': 'EV', 'year': '2023'}\n"
     ]
    }
   ],
   "source": [
    "class Car():\n",
    "    def __init__(self, make, model, body_style, seats, power_source, year, doors = 4):\n",
    "        self.make = make\n",
    "        self.model = model\n",
    "        self.body_style = body_style\n",
    "        self.doors = doors\n",
    "        self.seats = seats\n",
    "        self.power_source = power_source\n",
    "        self.year = year\n",
    "        \n",
    "new_car = Car(\"Hyundai\", \"Ionic 5\", \"Compact SUV\", 4, \"EV\", \"2023\")\n",
    "\n",
    "# original\n",
    "print(new_car.__dict__)\n",
    "\n",
    "# change some attributes\n",
    "new_car.doors = 2\n",
    "new_car.seats = 2\n",
    "\n",
    "print(\"\\n\")\n",
    "print(new_car.__dict__)\n"
   ]
  },
  {
   "cell_type": "code",
   "execution_count": 58,
   "metadata": {},
   "outputs": [
    {
     "name": "stdout",
     "output_type": "stream",
     "text": [
      "<__main__.Car object at 0x0000020E2C7F52B0>\n",
      "My car is a black 2012 Subaru Impreza with 4 wheels, 4 doors, and 5 seats.\n",
      "<__main__.Car object at 0x0000020E2C7F5C70>\n",
      "The car I learned to drive in was a silver 2011 Toyota Sienna with 4 wheels, 5 doors, and 7 seats.\n",
      "The car I learned to drive in was a silver 2011 Toyota Sienna with 4 wheels, 5 doors, and 6 seats.\n"
     ]
    }
   ],
   "source": [
    "class Car():\n",
    "    def __init__(self, year, color, make, model, doors, seats):\n",
    "        self.color = color\n",
    "        self.year = year\n",
    "        self.make = make\n",
    "        self.model = model\n",
    "        self.doors = doors\n",
    "        self.seats = seats\n",
    "        self.wheels = 4\n",
    "        \n",
    "my_car = Car(2012, \"black\", \"Subaru\", \"Impreza\", 4, 5)\n",
    "print(my_car)\n",
    "print(f\"My car is a {my_car.color} {my_car.year} {my_car.make} {my_car.model} with {my_car.wheels} wheels, {my_car.doors} doors, and {my_car.seats} seats.\")\n",
    "my_car = Car(2011, \"silver\", \"Toyota\", \"Sienna\", 5, 7)\n",
    "print(my_car)\n",
    "print(f\"The car I learned to drive in was a {my_car.color} {my_car.year} {my_car.make} {my_car.model} with {my_car.wheels} wheels, {my_car.doors} doors, and {my_car.seats} seats.\")\n",
    "\n",
    "my_car.seats = 6\n",
    "print(f\"The car I learned to drive in was a {my_car.color} {my_car.year} {my_car.make} {my_car.model} with {my_car.wheels} wheels, {my_car.doors} doors, and {my_car.seats} seats.\")\n"
   ]
  },
  {
   "cell_type": "code",
   "execution_count": 59,
   "metadata": {},
   "outputs": [
    {
     "name": "stdout",
     "output_type": "stream",
     "text": [
      "Before attribute change: black\n",
      "After attribute change: purple\n",
      "\n",
      "Before attribute change: black\n",
      "After attribute change: grey\n",
      "\n",
      "Before attribute change: False\n",
      "After attribute change: True\n",
      "\n",
      "Before attribute change: SUV\n",
      "After attribute change: compact\n",
      "\n"
     ]
    }
   ],
   "source": [
    "class Car():\n",
    "    def __init__(self, color, type_, model, doors, hatchback):\n",
    "        self.color = color\n",
    "        self.type_ = type_\n",
    "        self.model = model\n",
    "        self.doors = doors\n",
    "        self.hatchback = hatchback\n",
    "        \n",
    "subaru = Car(\"black\", \"SUV\", \"Crosstrex\", 4, False)\n",
    "vw = Car(\"black\", \"Compact\", \"Golf R\", 2, True)\n",
    "        \n",
    "print(f'Before attribute change: {subaru.color}')\n",
    "subaru.color = \"purple\"\n",
    "print(f'After attribute change: {subaru.color}\\n')\n",
    "\n",
    "print(f'Before attribute change: {vw.color}')\n",
    "vw.color = \"grey\"\n",
    "print(f'After attribute change: {vw.color}\\n')\n",
    "\n",
    "print(f'Before attribute change: {subaru.hatchback}')\n",
    "subaru.hatchback = True\n",
    "print(f'After attribute change: {subaru.hatchback}\\n')\n",
    "\n",
    "print(f'Before attribute change: {subaru.type_}')\n",
    "subaru.type_ = \"compact\"\n",
    "print(f'After attribute change: {subaru.type_}\\n')\n"
   ]
  },
  {
   "cell_type": "code",
   "execution_count": 61,
   "metadata": {},
   "outputs": [
    {
     "name": "stdout",
     "output_type": "stream",
     "text": [
      "Coupe has: 2 doors and 4 seats\n",
      "Sedan has: 4 doors and 5 seats\n",
      "6\n"
     ]
    }
   ],
   "source": [
    "class Car():\n",
    "    amount = 1\n",
    "    def __init__(car, doors, seats = None):\n",
    "        car.doors = doors\n",
    "        car.seats = seats\n",
    "        \n",
    "        \n",
    "coupe = Car(2, 4)\n",
    "sedan = Car(4, 5)\n",
    "\n",
    "print(\"Coupe has:\", coupe.doors, \"doors and\", coupe.seats, \"seats\")\n",
    "print(\"Sedan has:\", sedan.doors, \"doors and\", sedan.seats, \"seats\")\n",
    "\n",
    "sedan.seats = 6\n",
    "print(sedan.seats)\n",
    "\n",
    "\n"
   ]
  },
  {
   "cell_type": "markdown",
   "metadata": {},
   "source": [
    "## Class Methods <br>\n",
    "<p>While inside of a class, functions are referred to as 'methods'. If you hear someone mention methods, they're speaking about classes. Methods are essentially functions, but only callable on the instances of a class.</p>"
   ]
  },
  {
   "cell_type": "markdown",
   "metadata": {},
   "source": [
    "##### Creating"
   ]
  },
  {
   "cell_type": "code",
   "execution_count": null,
   "metadata": {},
   "outputs": [],
   "source": [
    "class Bus():\n",
    "    \"\"\"\n",
    "    The bus will have doors, seats, seats available, color, and a bus driver\n",
    "    \n",
    "    Attributes for the class:\n",
    "    -doors: integer\n",
    "    -seats: integer\n",
    "    -seats_available: integer\n",
    "    -color: string\n",
    "    -bus_driver: string\n",
    "    \n",
    "    \"\"\"\n",
    "    \n",
    "    def __init__(self, doors, seats, seats_available, color, bus_driver):\n",
    "        self.doors = doors\n",
    "        self.seats = seats\n",
    "        self.seats_available = seats_available\n",
    "        self.color = color\n",
    "        self.bus_driver = bus_driver\n",
    "        \n",
    "    #decerment the number of seats available\n",
    "    def load_passengers(self):\n",
    "        if self.seats_available <= 0:\n",
    "            print(\"This bus is full! You can't take any more passengers!\")\n",
    "            if self.seats_available < 0: \n",
    "                print(f\"you left {abs(self.seats_available)} by the road!\")\n",
    "                self.seats_available = 0\n",
    "        else:\n",
    "            passengers = int(input(\"How man passengers are getting on? \"))\n",
    "            self.seats_available -= passengers\n",
    "            print(f\"{passengers} passengers have boarded. There are {self.seats_available} left on the bus!\")\n",
    "            \n",
    "    \n",
    "    #increment the number of seats available\n",
    "    def unload_passengers(self):\n",
    "        if self.seats_available >= self.seats:\n",
    "            print(\"There is no one left to get off the bus!\")\n",
    "        else:\n",
    "            unload = int(input(\"How many passengers are getting off the bus? \"))\n",
    "            self.seats_available += unload\n",
    "            if self.seats_available >= self.seats:\n",
    "                self.seats_available = self.seats\n",
    "                print(f\"{unload} passengers have left the bus. There are {self.seats_available} left\")\n",
    "            print(f\"{unload} passengers have left the bus. There are {self.seats_available} left\")\n",
    "            \n",
    "    #change bus_driver attribute\n",
    "    def change_driver(self):\n",
    "        change = input(\"Who is replacing you? \")\n",
    "        self.bus_driver = change\n",
    "        print(f\"The new bus driver is {self.bus_driver}. Be sure to thank them!\")\n",
    "        \n",
    "    #display seat information\n",
    "    def check_seats(self):\n",
    "        print(self.seats_available)\n",
    "        \n",
    "    #display color information about bus\n",
    "    def admire_bus(self):\n",
    "        print(f\"Would ya just look at that beautiful {self.color} bus!\")\n",
    "        \n",
    "ryan_bus = Bus(2, 90, 45, \"yellow\", \"Ryan\")\n",
    "alex_bus = Bus(3, 100, 60, \"green\", \"Alex\")"
   ]
  },
  {
   "cell_type": "code",
   "execution_count": null,
   "metadata": {},
   "outputs": [],
   "source": []
  },
  {
   "cell_type": "markdown",
   "metadata": {},
   "source": [
    "##### Calling"
   ]
  },
  {
   "cell_type": "code",
   "execution_count": null,
   "metadata": {},
   "outputs": [],
   "source": [
    "def run():\n",
    "    while True:\n",
    "        response = input(\"What would you like to do? Load/Unload/Change Driver/Check Seats/Admire/Quit? \")\n",
    "        if response.lower() == 'quit':\n",
    "            print(\"Oh no! There are still passengers to be picked up! :( \")\n",
    "            break\n",
    "        elif response.lower() == \"load\":\n",
    "            ryan_bus.load_passengers()\n",
    "            \n",
    "        elif response.lower() == \"unload\":\n",
    "            ryan_bus.unload_passengers()\n",
    "            \n",
    "        elif response.lower() == 'change driver':\n",
    "            ryan_bus.change_driver()\n",
    "            \n",
    "        elif response.lower() == 'check seats':\n",
    "            ryan_bus.check_seats()\n",
    "            \n",
    "        elif response.lower() == \"admire\":\n",
    "            ryan_bus.admire_bus()\n",
    "            \n",
    "        else:\n",
    "            print(\"That is not a valid response! Please pick from the list! \")\n",
    "            \n",
    "\n",
    " "
   ]
  },
  {
   "cell_type": "markdown",
   "metadata": {},
   "source": [
    "##### Modifying an Attribute's Value Through a Method"
   ]
  },
  {
   "cell_type": "code",
   "execution_count": null,
   "metadata": {},
   "outputs": [],
   "source": [
    "# see above"
   ]
  },
  {
   "cell_type": "markdown",
   "metadata": {},
   "source": [
    "##### Incrementing an Attribute's Value Through a Method"
   ]
  },
  {
   "cell_type": "code",
   "execution_count": null,
   "metadata": {},
   "outputs": [],
   "source": [
    "#see above"
   ]
  },
  {
   "cell_type": "markdown",
   "metadata": {},
   "source": [
    "##### In-Class Exercise #3 - Add a method that takes in three parameters of year, doors and seats and prints out a formatted print statement with make, model, year, seats, and doors"
   ]
  },
  {
   "cell_type": "code",
   "execution_count": null,
   "metadata": {},
   "outputs": [],
   "source": [
    "# Create class with 2 paramters inside of the __init__ which are make and model\n",
    "\n",
    "# Create two methods for your class\n",
    "\n",
    "# Create a method that alters an attribute for your class\n",
    "\n",
    "# Display method that prints information about the vehicle\n",
    "\n",
    "# Output: This car is from 2019 and is a Ford Expolorer and has 4 doors and 5 seats\n",
    "\n",
    "#reminder in order to call class methods instance.method()\n",
    "\n"
   ]
  },
  {
   "cell_type": "code",
   "execution_count": 86,
   "metadata": {},
   "outputs": [],
   "source": [
    "class Car():\n",
    "    def __init__(self, make, model, doors, seats):\n",
    "        self.make = make\n",
    "        self.model = model\n",
    "        self.doors = doors\n",
    "        self.seats = seats\n",
    "        self.color = \"\"\n",
    "    \n",
    "    def display_make(self):\n",
    "        print(f\"Your car is a {self.make}.\")        \n",
    "\n",
    "    def display_model(self):\n",
    "        print(f\"Your car is a {self.model}.\")        \n",
    "\n",
    "    def display_doors(self):\n",
    "        print(f\"Your car has {self.doors} doors.\")\n",
    "    \n",
    "    def change_doors(self):\n",
    "        new_doors = int(input(\"How many doors do you want your car to have? \"))\n",
    "        self.doors = new_doors\n",
    "        \n",
    "    def display_color(self):\n",
    "        print(f\"Your car is {self.color}.\")\n",
    "    \n",
    "    def change_color(self):\n",
    "        new_color = input(\"What color do you want your car to be? \")\n",
    "        self.color = new_color\n",
    "\n",
    "new_car = Car(\"Ford\", \"Explorer\", 4, 4)\n",
    "\n"
   ]
  },
  {
   "cell_type": "code",
   "execution_count": 88,
   "metadata": {},
   "outputs": [
    {
     "name": "stdout",
     "output_type": "stream",
     "text": [
      "4\n",
      "What color do you want your car to be? yellow\n",
      "yellow\n"
     ]
    }
   ],
   "source": [
    "print(new_car.seats)\n",
    "\n",
    "new_car.change_color()\n",
    "print(new_car.color)"
   ]
  },
  {
   "cell_type": "code",
   "execution_count": 89,
   "metadata": {},
   "outputs": [
    {
     "name": "stdout",
     "output_type": "stream",
     "text": [
      "2019 Ford Explorer 4 5\n",
      "\n",
      "\n",
      "This car is from 2019 and is a Ford Explorer and has 4 doors and 5 seats\n"
     ]
    }
   ],
   "source": [
    "class Car():\n",
    "    def __init__(self, year, make, model, doors, seats):\n",
    "        self.year = year\n",
    "        self.make = make\n",
    "        self.model = model\n",
    "        self.doors = doors\n",
    "        self.seats = seats\n",
    "        \n",
    "    def display_info(self):\n",
    "        print(f\"This car is from {self.year} and is a {self.make} {self.model} and has {self.doors} doors and {self.seats} seats\")\n",
    "ford = Car(2019, \"Ford\", \"Explorer\", 4, 5)\n",
    "print(ford.year, ford.make, ford.model, ford.doors, ford.seats)\n",
    "\n",
    "print(\"\\n\")\n",
    "\n",
    "# print(f\"This car is from {ford.year} and is a {ford.make} {ford.model} and has {ford.doors} doors and {ford.seats} seats\")\n"
   ]
  },
  {
   "cell_type": "markdown",
   "metadata": {},
   "source": [
    "## Inheritance <br>\n",
    "<p>You can create a child-parent relationship between two classes by using inheritance. What this allows you to do is have overriding methods, but also inherit traits from the parent class. Think of it as an actual parent and child, the child will inherit the parent's genes, as will the classes in OOP</p>"
   ]
  },
  {
   "cell_type": "markdown",
   "metadata": {},
   "source": [
    "##### Syntax for Inheriting from a Parent Class"
   ]
  },
  {
   "cell_type": "code",
   "execution_count": 121,
   "metadata": {},
   "outputs": [],
   "source": [
    "#Create of our parent class\n",
    "class Animal():\n",
    "    ACCELERATION = 9.8\n",
    "    def __init__(self, name, species, legs=4):\n",
    "        self.name = name\n",
    "        self.species = species\n",
    "        self.legs = legs\n",
    "        \n",
    "    #Generic Parent Method\n",
    "    def make_sound(self):\n",
    "        print(\"REEEEEEEEEEEEE\")\n",
    "        \n",
    "# Creation of our child class - Dog\n",
    "class Dog(Animal):\n",
    "    SPEED = 15\n",
    "    \n",
    "    def print_info(self):\n",
    "        print(f\"{self.name} runs at {self.SPEED} mph and accelerates at {self.ACCELERATION} mps^2\")\n",
    "        \n",
    "# Creation of our grandchild class - Mut\n",
    "class Mutt(Dog):\n",
    "    COLOR = \"light brownish, beige\"\n",
    "    \n",
    "    #Accessing the Animal class init through the Dog class\n",
    "    def __init__(self, name, species, eye_color, legs = 4):\n",
    "        Dog.__init__(self, name, species, legs)\n",
    "        self.eye_color = eye_color\n",
    "    \n",
    "    # Override the make_sound method from the Animal class\n",
    "    def make_sound(self):\n",
    "        print(\"roooooooooooo\")"
   ]
  },
  {
   "cell_type": "code",
   "execution_count": 108,
   "metadata": {},
   "outputs": [
    {
     "name": "stdout",
     "output_type": "stream",
     "text": [
      "REEEEEEEEEEEEE\n",
      "REEEEEEEEEEEEE\n",
      "REEEEEEEEEEEEE\n",
      "9.8\n",
      "REEEEEEEEEEEEE\n"
     ]
    }
   ],
   "source": [
    "bear = Animal(\"Otto\", \"Polar Bear\")\n",
    "otter = Animal(\"Bear\", \"River Otter\")\n",
    "liger = Animal(\"Napoleon\", \"Liger\")\n",
    "bear.make_sound()\n",
    "otter.make_sound()\n",
    "liger.make_sound()\n",
    "llama = Animal(\"Tina\", \"Llama\")\n",
    "print(bear.ACCELERATION)\n",
    "llama.make_sound()"
   ]
  },
  {
   "cell_type": "code",
   "execution_count": 122,
   "metadata": {},
   "outputs": [
    {
     "name": "stdout",
     "output_type": "stream",
     "text": [
      "REEEEEEEEEEEEE\n",
      "4\n",
      "Greg runs at 15 mph and accelerates at 9.8 mps^2\n"
     ]
    }
   ],
   "source": [
    "greg = Dog(\"Greg\", \"PitBull\")\n",
    "greg.make_sound()\n",
    "print(greg.legs)\n",
    "greg.print_info()\n",
    "\n",
    "# bear.print_info()"
   ]
  },
  {
   "cell_type": "code",
   "execution_count": 124,
   "metadata": {},
   "outputs": [
    {
     "name": "stdout",
     "output_type": "stream",
     "text": [
      "light brownish, beige\n",
      "Brown\n",
      "Green\n",
      "roooooooooooo\n",
      "roooooooooooo\n"
     ]
    }
   ],
   "source": [
    "eyo = Mutt(\"Eyo\", \"Dog\", \"Brown\")\n",
    "henri = Mutt(\"Henri\", \"Dog\", \"Green\")\n",
    "\n",
    "# eyo.print_info()\n",
    "print(henri.COLOR)\n",
    "print(eyo.eye_color)\n",
    "print(henri.eye_color)\n",
    "eyo.make_sound()\n",
    "henri.make_sound()"
   ]
  },
  {
   "cell_type": "markdown",
   "metadata": {},
   "source": [
    "##### The \\__init\\__() Method for a Child Class - super()"
   ]
  },
  {
   "cell_type": "code",
   "execution_count": 127,
   "metadata": {
    "scrolled": true
   },
   "outputs": [
    {
     "name": "stdout",
     "output_type": "stream",
     "text": [
      "Courage\n",
      "Schnauzer\n",
      "Courage runs at 15 mph and accelerates at 9.8 mps^2\n"
     ]
    }
   ],
   "source": [
    "class Mutt(Dog):\n",
    "    \n",
    "    COLOR = \"lots of colors\"\n",
    "    #accessing the Animal class __init__ with the super().__init__\n",
    "    def __init__(self, name, species, eye_color, legs = 4):\n",
    "        super().__init__(name, species, legs)\n",
    "        \n",
    "        #super() will reference the class that the child takes in\n",
    "        self.eye_color = eye_color\n",
    "    def make_sound(self):\n",
    "        print(\"wooooof\")\n",
    "        \n",
    "courage = Mutt(\"Courage\", \"Schnauzer\", \"black\")\n",
    "\n",
    "print(courage.name)\n",
    "print(courage.species)\n",
    "courage.print_info()"
   ]
  },
  {
   "cell_type": "markdown",
   "metadata": {},
   "source": [
    "##### Defining Attributes and Methods for the Child Class"
   ]
  },
  {
   "cell_type": "code",
   "execution_count": null,
   "metadata": {},
   "outputs": [],
   "source": [
    "# See Above"
   ]
  },
  {
   "cell_type": "markdown",
   "metadata": {},
   "source": [
    "##### Method Overriding"
   ]
  },
  {
   "cell_type": "code",
   "execution_count": null,
   "metadata": {},
   "outputs": [],
   "source": [
    "# See Above"
   ]
  },
  {
   "cell_type": "markdown",
   "metadata": {},
   "source": [
    "## Classes as Attributes <br>\n",
    "<p>Classes can also be used as attributes within another class. This is useful in situations where you need to keep variables locally stored, instead of globally stored.</p>"
   ]
  },
  {
   "cell_type": "code",
   "execution_count": 131,
   "metadata": {},
   "outputs": [
    {
     "name": "stdout",
     "output_type": "stream",
     "text": [
      "2022 Volkswagen Jetta 20\n",
      "7.8\n"
     ]
    }
   ],
   "source": [
    "class Battery():\n",
    "    VOLTZ = 7.8\n",
    "    \n",
    "    def __init__(self, cells):\n",
    "        self.cells = cells\n",
    "        \n",
    "class Car():\n",
    "    def __init__(self, year, make, model, battery):\n",
    "        self.year = year\n",
    "        self.make = make\n",
    "        self.model = model\n",
    "        self.battery = battery\n",
    "        \n",
    "    def print_info(self):\n",
    "        print(f\"{self.year} {self.make} {self.model} {self.battery.cells}\")\n",
    "        \n",
    "battery = Battery(20)\n",
    "\n",
    "volkswagen = Car(2022, \"Volkswagen\", \"Jetta\", battery)\n",
    "\n",
    "volkswagen.print_info()\n",
    "        \n",
    "print(volkswagen.battery.VOLTZ)\n"
   ]
  },
  {
   "cell_type": "markdown",
   "metadata": {},
   "source": [
    "# Exercises"
   ]
  },
  {
   "cell_type": "markdown",
   "metadata": {},
   "source": [
    "### Exercise 1 - Turn the shopping cart program from last week into an object-oriented program\n",
    "\n",
    "The comments in the cell below are there as a guide for thinking about the problem. However, if you feel a different way is best for you and your own thought process, please do what feels best for you by all means."
   ]
  },
  {
   "cell_type": "code",
   "execution_count": null,
   "metadata": {},
   "outputs": [],
   "source": [
    "# Create a class called cart that retains items and has methods to add, remove, and show\n",
    "\n",
    "class Cart():\n",
    "    pass\n",
    "    "
   ]
  },
  {
   "cell_type": "markdown",
   "metadata": {},
   "source": [
    "### Exercise 2 - Write a Python class which has two methods get_String and print_String. get_String accept a string from the user and print_String print the string in upper case"
   ]
  },
  {
   "cell_type": "code",
   "execution_count": null,
   "metadata": {},
   "outputs": [],
   "source": []
  },
  {
   "cell_type": "code",
   "execution_count": null,
   "metadata": {},
   "outputs": [
    {
     "name": "stdout",
     "output_type": "stream",
     "text": [
      "What would you like to do? Load/Unload/Change Driver/Check Seats/Admire/Quit? load\n",
      "How man passengers are getting on? 30\n",
      "30 passengers have boarded. There are 15 left on the bus!\n"
     ]
    }
   ],
   "source": [
    "run()"
   ]
  }
 ],
 "metadata": {
  "kernelspec": {
   "display_name": "Python 3 (ipykernel)",
   "language": "python",
   "name": "python3"
  },
  "language_info": {
   "codemirror_mode": {
    "name": "ipython",
    "version": 3
   },
   "file_extension": ".py",
   "mimetype": "text/x-python",
   "name": "python",
   "nbconvert_exporter": "python",
   "pygments_lexer": "ipython3",
   "version": "3.9.4"
  }
 },
 "nbformat": 4,
 "nbformat_minor": 2
}
