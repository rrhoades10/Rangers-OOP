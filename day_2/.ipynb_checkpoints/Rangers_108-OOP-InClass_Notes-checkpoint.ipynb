{
 "cells": [
  {
   "cell_type": "markdown",
   "metadata": {},
   "source": [
    "# Object-Oriented-Programming (OOP)"
   ]
  },
  {
   "cell_type": "markdown",
   "metadata": {},
   "source": [
    "## Tasks Today:\n",
    "\n",
    "   \n",
    "\n",
    "1) <b>Creating a Class (Initializing/Declaring)</b> <br>\n",
    "2) <b>Using a Class (Instantiating)</b> <br>\n",
    " &nbsp;&nbsp;&nbsp;&nbsp; a) Creating One Instance <br>\n",
    " &nbsp;&nbsp;&nbsp;&nbsp; b) Creating Multiple Instances <br>\n",
    " &nbsp;&nbsp;&nbsp;&nbsp; c) In-Class Exercise #1 - Create a Class 'Car' and instantiate three different makes of cars <br>\n",
    "3) <b>The \\__init\\__() Method</b> <br>\n",
    " &nbsp;&nbsp;&nbsp;&nbsp; a) The 'self' Attribute <br>\n",
    "4) <b>Class Attributes</b> <br>\n",
    " &nbsp;&nbsp;&nbsp;&nbsp; a) Initializing Attributes <br>\n",
    " &nbsp;&nbsp;&nbsp;&nbsp; b) Setting an Attribute Outside of the \\__init\\__() Method <br>\n",
    " &nbsp;&nbsp;&nbsp;&nbsp; c) Setting Defaults for Attributes <br>\n",
    " &nbsp;&nbsp;&nbsp;&nbsp; d) Accessing Class Attributes <br>\n",
    " &nbsp;&nbsp;&nbsp;&nbsp; e) Changing Class Attributes <br>\n",
    " &nbsp;&nbsp;&nbsp;&nbsp; f) In-Class Exercise #2 - Add a color and wheels attribute to your 'Car' class <br>\n",
    "5) <b>Class Methods</b> <br>\n",
    " &nbsp;&nbsp;&nbsp;&nbsp; a) Creating <br>\n",
    " &nbsp;&nbsp;&nbsp;&nbsp; b) Calling <br>\n",
    " &nbsp;&nbsp;&nbsp;&nbsp; c) Modifying an Attribute's Value Through a Method <br>\n",
    " &nbsp;&nbsp;&nbsp;&nbsp; d) Incrementing an Attribute's Value Through a Method <br>\n",
    " &nbsp;&nbsp;&nbsp;&nbsp; e) In-Class Exercise #3 - Add a method that prints the cars color and wheel number, then call them <br>\n",
    "6) <b>Inheritance</b> <br>\n",
    " &nbsp;&nbsp;&nbsp;&nbsp; a) Syntax for Inheriting from a Parent Class <br>\n",
    " &nbsp;&nbsp;&nbsp;&nbsp; b) The \\__init\\__() Method for a Child Class (super()) <br>\n",
    " &nbsp;&nbsp;&nbsp;&nbsp; c) Defining Attributes and Methods for the Child Class <br>\n",
    " &nbsp;&nbsp;&nbsp;&nbsp; d) Method Overriding <br>\n",
    " &nbsp;&nbsp;&nbsp;&nbsp; e) In-Class Exercise #4 - Create a class 'Ford' that inherits from 'Car' class and initialize it as a Blue Ford Explorer with 4 wheels using the super() method <br>\n",
    "7) <b>Classes as Attributes</b> <br>\n",
    "8) <b>Exercises</b> <br>\n",
    " &nbsp;&nbsp;&nbsp;&nbsp; a) Exercise #1 - Turn the shopping cart program from last week into an object-oriented program <br>"
   ]
  },
  {
   "cell_type": "markdown",
   "metadata": {},
   "source": [
    "## Creating a Class (Initializing/Declaring)\n",
    "<p>When creating a class, function, or even a variable you are initializing that object. Initializing and Declaring occur at the same time in Python, whereas in lower level languages you have to declare an object before initializing it. This is the first step in the process of using a class.</p>"
   ]
  },
  {
   "cell_type": "code",
   "execution_count": 2,
   "metadata": {},
   "outputs": [],
   "source": [
    "class Car():\n",
    "    wheels = 4\n",
    "    color = 'blue'"
   ]
  },
  {
   "cell_type": "markdown",
   "metadata": {},
   "source": [
    "## Using a Class (Instantiating)\n",
    "<p>The process of creating a class is called <i>Instantiating</i>. Each time you create a variable of that type of class, it is referred to as an <i>Instance</i> of that class. This is the second step in the process of using a class.</p>"
   ]
  },
  {
   "cell_type": "markdown",
   "metadata": {},
   "source": [
    "##### Creating One Instance"
   ]
  },
  {
   "cell_type": "code",
   "execution_count": 7,
   "metadata": {},
   "outputs": [
    {
     "name": "stdout",
     "output_type": "stream",
     "text": [
      "4\n",
      "blue\n",
      "{}\n"
     ]
    }
   ],
   "source": [
    "ford = Car()\n",
    "print(ford.wheels)\n",
    "print(ford.color)\n",
    "\n",
    "print(ford.__dict__)\n"
   ]
  },
  {
   "cell_type": "markdown",
   "metadata": {},
   "source": [
    "##### Creating Multiple Instances"
   ]
  },
  {
   "cell_type": "code",
   "execution_count": 8,
   "metadata": {},
   "outputs": [
    {
     "name": "stdout",
     "output_type": "stream",
     "text": [
      "blue\n",
      "4\n"
     ]
    }
   ],
   "source": [
    "mazda = Car()\n",
    "\n",
    "honda = Car()\n",
    "\n",
    "mclaren = Car()\n",
    "\n",
    "print(mazda.color)\n",
    "print(mclaren.wheels)"
   ]
  },
  {
   "cell_type": "markdown",
   "metadata": {},
   "source": [
    "##### In-Class Exercise #1 - Create a Class 'Car' and Instantiate three different makes of cars"
   ]
  },
  {
   "cell_type": "code",
   "execution_count": 19,
   "metadata": {},
   "outputs": [
    {
     "name": "stdout",
     "output_type": "stream",
     "text": [
      "{'model': 'prius', 'fuel': 'hybrid', 'year': 2015}\n",
      "{'model': '400z', 'fuel': 'premium gasoline', 'year': 2021}\n",
      "{'model': 'm3', 'fuel': 'unleaded gasoline', 'year': 1990}\n"
     ]
    }
   ],
   "source": [
    "class Car():\n",
    "    GOES_FAST =  True # constant --> not likely to change across objects\n",
    "    def __init__(self, model, year, fuel):\n",
    "        self.model = model\n",
    "        self.fuel = fuel\n",
    "        self.year = year\n",
    "toyota = Car(\"prius\", 2015, \"hybrid\")\n",
    "nissan = Car(\"400z\", 2021, \"premium gasoline\")\n",
    "BMW = Car(\"m3\", 1990, \"unleaded gasoline\")\n",
    "\n",
    "print(toyota.__dict__)\n",
    "print(nissan.__dict__)\n",
    "print(BMW.__dict__)\n"
   ]
  },
  {
   "cell_type": "code",
   "execution_count": 20,
   "metadata": {},
   "outputs": [
    {
     "name": "stdout",
     "output_type": "stream",
     "text": [
      "Please enter the make of your carmazda\n",
      "Please enter the model of your carmazda3\n",
      "Please enter how many wheels your car has4\n",
      "Please enter the color of your carblue\n",
      "Please enter how many doors your car has4\n",
      "Your car is a blue mazda mazda3 with 4 wheels and 4 doors\n"
     ]
    }
   ],
   "source": [
    "class Car():\n",
    "    def __init__(self, make, model, wheels, color, doors):\n",
    "        self.make = make\n",
    "        self.model = model\n",
    "        self.wheels = wheels\n",
    "        self.color = color\n",
    "        self.doors = doors\n",
    "chevy = Car(\"Chevy\", \"Impala\", 4, \"Mocha Metallic Bronze\", 4)\n",
    "fisher = Car(\"Fisher-Price\", \"Toy\", 4, \"red\", 2)\n",
    "horse = Car(\"Gandalf\", \"Shadowfax\", 0, \"white\", 0)\n",
    "\n",
    "\n",
    "car_make = input(\"Please enter the make of your car\")\n",
    "car_model = input(\"Please enter the model of your car\")\n",
    "car_wheels = input(\"Please enter how many wheels your car has\")\n",
    "car_color = input(\"Please enter the color of your car\")\n",
    "car_doors = input(\"Please enter how many doors your car has\")\n",
    "\n",
    "print(f\"Your car is a {car_color} {car_make} {car_model} with {car_wheels} wheels and {car_doors} doors\")\n"
   ]
  },
  {
   "cell_type": "code",
   "execution_count": 21,
   "metadata": {},
   "outputs": [
    {
     "name": "stdout",
     "output_type": "stream",
     "text": [
      "{'model': 'Genesis Coupe 3.8L', 'color': 'Slate Grey', 'doors': 2, 'horsepower': 360}\n",
      "{'model': 'Accord', 'color': 'Silver', 'doors': 4, 'horsepower': 200}\n",
      "{'model': 'M3', 'color': 'Black', 'doors': 4, 'horsepower': 470}\n"
     ]
    }
   ],
   "source": [
    "class Car():\n",
    "    def __init__(self, model, color, doors, horsepower):\n",
    "        self.model = model\n",
    "        self.color = color\n",
    "        self.doors = doors\n",
    "        self.horsepower = horsepower\n",
    "\n",
    "hyundai = Car(\"Genesis Coupe 3.8L\", \"Slate Grey\", 2, 360 )\n",
    "honda = Car(\"Accord\", \"Silver\", 4, 200)\n",
    "bmw = Car(\"M3\", \"Black\", 4, 470)\n",
    "\n",
    "print(hyundai.__dict__)\n",
    "print(honda.__dict__)\n",
    "print(bmw.__dict__)\n"
   ]
  },
  {
   "cell_type": "code",
   "execution_count": 22,
   "metadata": {},
   "outputs": [
    {
     "name": "stdout",
     "output_type": "stream",
     "text": [
      "sedan\n",
      "silver\n",
      "25\n"
     ]
    }
   ],
   "source": [
    "class Car():\n",
    "    def __init__(self, mph, color, body):\n",
    "        self.mph = mph\n",
    "        self.color = color\n",
    "        self.body = body\n",
    "\n",
    "toyota = Car(50, \"blue\", \"sedan\")\n",
    "\n",
    "nissan = Car(35, \"silver\", \"truck\")\n",
    "\n",
    "audi = Car(25, \"black\", \"sedan\")\n",
    "\n",
    "\n",
    "print(toyota.body)\n",
    "print(nissan.color)\n",
    "print(audi.mph)\n"
   ]
  },
  {
   "cell_type": "markdown",
   "metadata": {},
   "source": [
    "## The \\__init\\__() Method <br>\n",
    "<p>This method is used in almost every created class, and called only once upon the creation of the class instance. This method will initialize all variables needed for the object.</p>"
   ]
  },
  {
   "cell_type": "code",
   "execution_count": 18,
   "metadata": {},
   "outputs": [
    {
     "name": "stdout",
     "output_type": "stream",
     "text": [
      "Blue\n",
      "Red\n",
      "Green\n",
      "Silver\n",
      "{'wheels': 4, 'color': 'Blue', 'doors': 4}\n"
     ]
    }
   ],
   "source": [
    "class Car():\n",
    "    def __init__(self, wheels, color, doors):\n",
    "        self.wheels = wheels\n",
    "        self.color = color\n",
    "        self.doors = doors\n",
    "mazda = Car(4, \"Blue\", 4)\n",
    "\n",
    "mclaren = Car(4, 'Red', 2)\n",
    "\n",
    "honda = Car(4, \"Green\", 4)\n",
    "\n",
    "ford = Car(6, \"Silver\", 4)\n",
    "print(mazda.color)\n",
    "print(mclaren.color)\n",
    "print(honda.color)\n",
    "print(ford.color)\n",
    "\n",
    "mazda.wheels\n",
    "\n",
    "print(mazda.__dict__)"
   ]
  },
  {
   "cell_type": "markdown",
   "metadata": {},
   "source": [
    "##### The 'self' Attribute <br>\n",
    "<p>This attribute is required to keep track of specific instance's attributes. Without the self attribute, the program would not know how to reference or keep track of an instance's attributes.</p>"
   ]
  },
  {
   "cell_type": "code",
   "execution_count": 27,
   "metadata": {},
   "outputs": [
    {
     "name": "stdout",
     "output_type": "stream",
     "text": [
      "self is referencing the object <__main__.Pokemon object at 0x000002804D379EB0>, Charmander\n",
      "fire\n",
      "self is referencing the object <__main__.Pokemon object at 0x000002804D37B130>, Squirtle\n",
      "water\n"
     ]
    }
   ],
   "source": [
    "class Pokemon():\n",
    "    def __init__(self, name, type_):\n",
    "        #self is going to hold the place of the object we instantiate\n",
    "        self.name = name #self will become object. (object.name)\n",
    "        self.type_ = type_\n",
    "        print(f\"self is referencing the object {self}, {self.name}\")\n",
    "        print(self.type_)\n",
    "        \n",
    "        \n",
    "    \n",
    "        \n",
    "charmander = Pokemon(\"Charmander\", \"fire\")\n",
    "squirtle = Pokemon(\"Squirtle\", \"water\")"
   ]
  },
  {
   "cell_type": "markdown",
   "metadata": {},
   "source": [
    "## Class Attributes <br>\n",
    "<p>While variables are inside of a class, they are referred to as attributes and not variables. When someone says 'attribute' you know they're speaking about a class. Attributes can be initialized through the init method, or outside of it.</p>"
   ]
  },
  {
   "cell_type": "markdown",
   "metadata": {},
   "source": [
    "##### Initializing Attributes"
   ]
  },
  {
   "cell_type": "code",
   "execution_count": 28,
   "metadata": {},
   "outputs": [
    {
     "name": "stdout",
     "output_type": "stream",
     "text": [
      "self is referencing the object <__main__.Pokemon object at 0x000002804D37BB20>, Bulbasaur\n",
      "Grass\n"
     ]
    }
   ],
   "source": [
    "bulbasaur = Pokemon(\"Bulbasaur\", \"Grass\")"
   ]
  },
  {
   "cell_type": "markdown",
   "metadata": {},
   "source": [
    "##### Accessing Class Attributes"
   ]
  },
  {
   "cell_type": "code",
   "execution_count": 31,
   "metadata": {
    "scrolled": true
   },
   "outputs": [
    {
     "name": "stdout",
     "output_type": "stream",
     "text": [
      "Bulbasaur\n",
      "Grass\n",
      "{'name': 'Bulbasaur', 'type_': 'Grass'}\n"
     ]
    }
   ],
   "source": [
    "print(bulbasaur.name)\n",
    "print(bulbasaur.type_)\n",
    "print(bulbasaur.__dict__)"
   ]
  },
  {
   "cell_type": "markdown",
   "metadata": {},
   "source": [
    "##### Setting Defaults for Attributes"
   ]
  },
  {
   "cell_type": "code",
   "execution_count": 38,
   "metadata": {},
   "outputs": [
    {
     "name": "stdout",
     "output_type": "stream",
     "text": [
      "Blue\n",
      "4\n"
     ]
    }
   ],
   "source": [
    "class Car():\n",
    "    def __init__(self, wheels):\n",
    "        self.wheels = wheels\n",
    "        self.color = \"Blue\"\n",
    "        \n",
    "honda = Car(4)\n",
    "print(honda.color)\n",
    "print(honda.wheels)\n",
    "mazda = Car(4)"
   ]
  },
  {
   "cell_type": "code",
   "execution_count": 41,
   "metadata": {},
   "outputs": [
    {
     "name": "stdout",
     "output_type": "stream",
     "text": [
      "blue\n",
      "orange\n",
      "Red\n"
     ]
    }
   ],
   "source": [
    "class Car():\n",
    "    def __init__(self, wheels, color = 'Red'):\n",
    "        self.wheels = wheels\n",
    "        self.color = color\n",
    "ford = Car(4)\n",
    "# print(ford.wheels)\n",
    "# print(ford.color)\n",
    "mazda = Car(4, \"blue\")\n",
    "print(mazda.color)\n",
    "\n",
    "honda = Car(4, \"orange\")\n",
    "print(honda.color)\n",
    "print(ford.color)"
   ]
  },
  {
   "cell_type": "markdown",
   "metadata": {},
   "source": [
    "##### Changing Class Attributes <br>\n",
    "<p>Keep in mind there are global class attributes and then there are attributes only available to each class instance which won't effect other classes.</p>"
   ]
  },
  {
   "cell_type": "code",
   "execution_count": 48,
   "metadata": {},
   "outputs": [
    {
     "name": "stdout",
     "output_type": "stream",
     "text": [
      "4\n",
      "before attribute change Blue\n",
      "after attribute change Red\n",
      "before variable change Blue\n",
      "after variable change Red\n"
     ]
    }
   ],
   "source": [
    "class Car():\n",
    "    def __init__(self, wheels):\n",
    "        self.wheels = wheels\n",
    "        self.color = \"Blue\"\n",
    "        \n",
    "honda = Car(4)\n",
    "# print(honda.color)\n",
    "print(honda.wheels)\n",
    "mazda = Car(4)\n",
    "#Change our default attribute\n",
    "print(f\"before attribute change {honda.color}\")\n",
    "honda.color = \"Red\"\n",
    "print(f\"after attribute change {honda.color}\")\n",
    "\n",
    "color = \"Blue\"\n",
    "print(f\"before variable change {color}\")\n",
    "color = \"red\"\n",
    "print(f\"after variable change {honda.color}\")\n"
   ]
  },
  {
   "cell_type": "code",
   "execution_count": null,
   "metadata": {},
   "outputs": [],
   "source": []
  },
  {
   "cell_type": "markdown",
   "metadata": {},
   "source": [
    "##### In-Class Exercise #2 - Add two new attributes to your 'Car' class then print out two different instances with different doors and seats. Then take that bad boy to the shop and change those attributes. Either with an input or just by changing them"
   ]
  },
  {
   "cell_type": "code",
   "execution_count": 56,
   "metadata": {},
   "outputs": [
    {
     "name": "stdout",
     "output_type": "stream",
     "text": [
      "5\n",
      "6\n"
     ]
    }
   ],
   "source": [
    "class Car():\n",
    "    def __init__(self, make, model, wheels, color, doors = 4, seats = 2):\n",
    "        self.make = make\n",
    "        self.model = model\n",
    "        self.wheels = wheels\n",
    "        self.color = color\n",
    "        self.doors = doors\n",
    "        self.seats = seats\n",
    "        \n",
    "chevy = Car(\"Chevy\", \"Impala\", 4, \"Mocha Metallic Bronze\", 5, 6)\n",
    "fisher = Car(\"Fisher-Price\", \"Toy\", 4, \"red\", 2, 1)\n",
    "\n",
    "print(chevy.doors)\n",
    "print(chevy.seats)\n",
    "\n",
    "\n",
    "# horse = Car(\"Gandalf\", \"Shadowfax\", 0, \"white\", 0, 1)\n",
    "\n",
    "# print(horse.make, horse.model, horse.wheels, horse.color, horse.doors, horse.seats)\n",
    "\n",
    "# horse = Car(\"Gandalf\", \"Shadowfax\", 0, \"white\", 1, 2)\n",
    "\n",
    "# seats = input(\"How many seats? \")\n",
    "# horse.seats = seats\n",
    "\n",
    "\n",
    "# print(horse.make, horse.model, horse.wheels, horse.color, horse.doors, horse.seats)\n"
   ]
  },
  {
   "cell_type": "code",
   "execution_count": 58,
   "metadata": {},
   "outputs": [
    {
     "name": "stdout",
     "output_type": "stream",
     "text": [
      "25\n",
      "120\n",
      "18\n",
      "130\n"
     ]
    }
   ],
   "source": [
    "class Car():\n",
    "    def __init__(self, mpg, max_mph):\n",
    "        self.mpg = 25\n",
    "        self.max_mph = 120\n",
    "\n",
    "ford = Car(15, 120)\n",
    "print(ford.mpg)\n",
    "print(ford.max_mph)\n",
    "ford.mpg = 18\n",
    "ford.max_mph = 130\n",
    "print(ford.mpg)\n",
    "print(ford.max_mph)\n"
   ]
  },
  {
   "cell_type": "code",
   "execution_count": 59,
   "metadata": {},
   "outputs": [
    {
     "name": "stdout",
     "output_type": "stream",
     "text": [
      "4\n",
      "2\n",
      "Red\n",
      "2\n",
      "How many doors does your Toyota have? 8\n",
      "Your silver Toyota has 8 doors and 2 seats.\n"
     ]
    }
   ],
   "source": [
    "class Car():\n",
    "    def __init__(self, doors, seats, color):\n",
    "        self.doors = doors\n",
    "        self.seats = seats\n",
    "        self.color = color\n",
    "\n",
    "mazda = Car(4, 5, \"black\")\n",
    "toyota = Car(2, 4, \"silver\")\n",
    "print(mazda.doors)\n",
    "print(toyota.doors)\n",
    "\n",
    "mazda.color = \"Red\"\n",
    "toyota.seats = 2\n",
    "print(mazda.color)\n",
    "print(toyota.seats)\n",
    "\n",
    "x = int(input(\"How many doors does your Toyota have? \"))\n",
    "toyota.doors = x\n",
    "print(f\"Your {toyota.color} Toyota has {toyota.doors} doors and {toyota.seats} seats.\")\n"
   ]
  },
  {
   "cell_type": "code",
   "execution_count": 66,
   "metadata": {
    "scrolled": true
   },
   "outputs": [
    {
     "name": "stdout",
     "output_type": "stream",
     "text": [
      "Tesla is a 4 door and has leather seats\n",
      "Mazda is a 4 door and has cloth seats\n",
      "After some changes \n",
      "\n",
      "Tesla is now a 6 door\n",
      "Mazda now has leather seats\n"
     ]
    },
    {
     "data": {
      "text/plain": [
       "'leather'"
      ]
     },
     "execution_count": 66,
     "metadata": {},
     "output_type": "execute_result"
    }
   ],
   "source": [
    "class Car():\n",
    "    def __init__ (self, seats, door = 4, ):\n",
    "        self.door = door\n",
    "        self.seats = seats\n",
    "\n",
    "Tesla = Car(\"leather\")\n",
    "\n",
    "print (f\"Tesla is a {Tesla.door} door and has {Tesla.seats} seats\")\n",
    "\n",
    "Mazda = Car(\"cloth\")\n",
    "\n",
    "print(f\"Mazda is a {Mazda.door} door and has {Mazda.seats} seats\")\n",
    "\n",
    "\n",
    "print (\"After some changes \")\n",
    "print('')\n",
    "Tesla.door = 6\n",
    "#after changing the attribute \n",
    "print (f\"Tesla is now a {Tesla.door} door\")\n",
    "\n",
    "Mazda.seats = \"leather\"\n",
    "print(f\"Mazda now has {Mazda.seats} seats\")\n",
    "\n",
    "\n"
   ]
  },
  {
   "cell_type": "code",
   "execution_count": 63,
   "metadata": {},
   "outputs": [
    {
     "ename": "NameError",
     "evalue": "name 'self_driving' is not defined",
     "output_type": "error",
     "traceback": [
      "\u001b[1;31m---------------------------------------------------------------------------\u001b[0m",
      "\u001b[1;31mNameError\u001b[0m                                 Traceback (most recent call last)",
      "Input \u001b[1;32mIn [63]\u001b[0m, in \u001b[0;36m<cell line: 10>\u001b[1;34m()\u001b[0m\n\u001b[0;32m      8\u001b[0m         \u001b[38;5;28mself\u001b[39m\u001b[38;5;241m.\u001b[39mseats \u001b[38;5;241m=\u001b[39m seats\n\u001b[0;32m      9\u001b[0m         \u001b[38;5;28mself\u001b[39m\u001b[38;5;241m.\u001b[39mself_driving \u001b[38;5;241m=\u001b[39m self_driving\n\u001b[1;32m---> 10\u001b[0m toyota \u001b[38;5;241m=\u001b[39m \u001b[43mCar\u001b[49m\u001b[43m(\u001b[49m\u001b[38;5;124;43m\"\u001b[39;49m\u001b[38;5;124;43mprius\u001b[39;49m\u001b[38;5;124;43m\"\u001b[39;49m\u001b[43m,\u001b[49m\u001b[43m \u001b[49m\u001b[38;5;241;43m2015\u001b[39;49m\u001b[43m,\u001b[49m\u001b[43m \u001b[49m\u001b[38;5;124;43m\"\u001b[39;49m\u001b[38;5;124;43mhybrid\u001b[39;49m\u001b[38;5;124;43m\"\u001b[39;49m\u001b[43m,\u001b[49m\u001b[43m \u001b[49m\u001b[38;5;241;43m4\u001b[39;49m\u001b[43m,\u001b[49m\u001b[43m \u001b[49m\u001b[38;5;241;43m5\u001b[39;49m\u001b[43m)\u001b[49m\n\u001b[0;32m     11\u001b[0m nissan \u001b[38;5;241m=\u001b[39m Car(\u001b[38;5;124m\"\u001b[39m\u001b[38;5;124m400z\u001b[39m\u001b[38;5;124m\"\u001b[39m, \u001b[38;5;241m2021\u001b[39m, \u001b[38;5;124m\"\u001b[39m\u001b[38;5;124mpremium gasoline\u001b[39m\u001b[38;5;124m\"\u001b[39m, \u001b[38;5;241m2\u001b[39m, \u001b[38;5;241m2\u001b[39m)\n\u001b[0;32m     12\u001b[0m BMW \u001b[38;5;241m=\u001b[39m Car(\u001b[38;5;124m\"\u001b[39m\u001b[38;5;124mm3\u001b[39m\u001b[38;5;124m\"\u001b[39m, \u001b[38;5;241m1990\u001b[39m, \u001b[38;5;124m\"\u001b[39m\u001b[38;5;124munleaded gasoline\u001b[39m\u001b[38;5;124m\"\u001b[39m, \u001b[38;5;241m4\u001b[39m, \u001b[38;5;241m4\u001b[39m, \u001b[38;5;28;01mTrue\u001b[39;00m)\n",
      "Input \u001b[1;32mIn [63]\u001b[0m, in \u001b[0;36mCar.__init__\u001b[1;34m(self, model, year, fuel, doors, seats)\u001b[0m\n\u001b[0;32m      7\u001b[0m \u001b[38;5;28mself\u001b[39m\u001b[38;5;241m.\u001b[39mdoors \u001b[38;5;241m=\u001b[39m doors\n\u001b[0;32m      8\u001b[0m \u001b[38;5;28mself\u001b[39m\u001b[38;5;241m.\u001b[39mseats \u001b[38;5;241m=\u001b[39m seats\n\u001b[1;32m----> 9\u001b[0m \u001b[38;5;28mself\u001b[39m\u001b[38;5;241m.\u001b[39mself_driving \u001b[38;5;241m=\u001b[39m \u001b[43mself_driving\u001b[49m\n",
      "\u001b[1;31mNameError\u001b[0m: name 'self_driving' is not defined"
     ]
    }
   ],
   "source": [
    "class Car():\n",
    "    goes_fast = True # constant --> not likley to change across constants\n",
    "    def __init__(self, model, year, fuel, doors, seats):\n",
    "        self.model = model\n",
    "        self.fuel = fuel\n",
    "        self.year = year\n",
    "        self.doors = doors\n",
    "        self.seats = seats\n",
    "        self.self_driving = self_driving\n",
    "toyota = Car(\"prius\", 2015, \"hybrid\", 4, 5)\n",
    "nissan = Car(\"400z\", 2021, \"premium gasoline\", 2, 2)\n",
    "BMW = Car(\"m3\", 1990, \"unleaded gasoline\", 4, 4, True)\n",
    "\n",
    "print(toyota.model)\n",
    "print(nissan.fuel)\n",
    "print(BMW.year)\n",
    "print(BMW.seats)\n",
    "print(toyota.doors)\n",
    "toyota.doors = 5\n",
    "print(toyota.doors)\n",
    "nissan.model = \"370z\"\n",
    "print(nissan.model)\n"
   ]
  },
  {
   "cell_type": "markdown",
   "metadata": {},
   "source": [
    "## Class Methods <br>\n",
    "<p>While inside of a class, functions are referred to as 'methods'. If you hear someone mention methods, they're speaking about classes. Methods are essentially functions, but only callable on the instances of a class.</p>"
   ]
  },
  {
   "cell_type": "markdown",
   "metadata": {},
   "source": [
    "##### Creating"
   ]
  },
  {
   "cell_type": "code",
   "execution_count": null,
   "metadata": {},
   "outputs": [],
   "source": [
    "class Bus():\n",
    "    \"\"\"\n",
    "    The buss will have doors, seats, seats available, color, and a bus driver\n",
    "    \n",
    "    Attributes for the bus:\n",
    "    -doors: integer\n",
    "    -seats: integer\n",
    "    -seats_available: integer\n",
    "    -color: string\n",
    "    -bus_driver: string\n",
    "    \n",
    "    \"\"\"\n",
    "    def __init__(self, doors, seats, seats_available, color, bus_driver):\n",
    "        self.doors = doors\n",
    "        self.seats = seats\n",
    "        self.seats_available = seats_available\n",
    "        self.color = color\n",
    "        self.bus_driver = bus_driver\n",
    "        \n",
    "    # decrement the number of seats available\n",
    "    def load_passengers(self):\n",
    "        if self.seats_available <= 0:\n",
    "            print(\"This bus is full! You can't take any more passengers :(\")\n",
    "            if self.seats_available < 0:\n",
    "                print(f\"You left {abs(self.seats_available)} by the road!\")\n",
    "                self.seats_available = 0\n",
    "        else:\n",
    "            passengers = int(input(\"How man passengers are getting on? \"))\n",
    "            self.seats_available -= passengers\n",
    "            print(f\"{passengers} passengers have boarded. There are {self.seats_available} left on the bus!\")\n",
    "            \n",
    "    # increment the number of seats available\n",
    "    def unload_passengers(self):\n",
    "        if self.seats_available >= self.seats:\n",
    "            print(\"There is no one on the bus to unload!\")\n",
    "        else:\n",
    "            unload = int(input(\"How many passengers are getting off the bus?\" ))\n",
    "            self.seats_available += unload\n",
    "            if self.seats_available >= self.seats:\n",
    "                self.seats_available = self.seats\n",
    "                \n",
    "            print(f\"{unload} passengers have left the bus. There are {self.seats_available} left\")\n",
    "        \n",
    "            \n",
    "    "
   ]
  },
  {
   "cell_type": "markdown",
   "metadata": {},
   "source": [
    "##### Calling"
   ]
  },
  {
   "cell_type": "code",
   "execution_count": null,
   "metadata": {},
   "outputs": [],
   "source": [
    "# See Above"
   ]
  },
  {
   "cell_type": "markdown",
   "metadata": {},
   "source": [
    "##### Modifying an Attribute's Value Through a Method"
   ]
  },
  {
   "cell_type": "code",
   "execution_count": null,
   "metadata": {},
   "outputs": [],
   "source": []
  },
  {
   "cell_type": "markdown",
   "metadata": {},
   "source": [
    "##### Incrementing an Attribute's Value Through a Method"
   ]
  },
  {
   "cell_type": "code",
   "execution_count": null,
   "metadata": {},
   "outputs": [],
   "source": []
  },
  {
   "cell_type": "markdown",
   "metadata": {},
   "source": [
    "##### In-Class Exercise #3 - Add a method that takes in three parameters of year, doors and seats and prints out a formatted print statement with make, model, year, seats, and doors"
   ]
  },
  {
   "cell_type": "code",
   "execution_count": null,
   "metadata": {},
   "outputs": [],
   "source": [
    "# Create class with 2 paramters inside of the __init__ which are make and model\n",
    "\n",
    "# Inside of the Car class create a method that has 4 parameter in total (self,year,door,seats)\n",
    "\n",
    "# Output: This car is from 2019 and is a Ford Expolorer and has 4 doors and 5 seats\n",
    "\n"
   ]
  },
  {
   "cell_type": "markdown",
   "metadata": {},
   "source": [
    "## Inheritance <br>\n",
    "<p>You can create a child-parent relationship between two classes by using inheritance. What this allows you to do is have overriding methods, but also inherit traits from the parent class. Think of it as an actual parent and child, the child will inherit the parent's genes, as will the classes in OOP</p>"
   ]
  },
  {
   "cell_type": "markdown",
   "metadata": {},
   "source": [
    "##### Syntax for Inheriting from a Parent Class"
   ]
  },
  {
   "cell_type": "code",
   "execution_count": null,
   "metadata": {},
   "outputs": [],
   "source": []
  },
  {
   "cell_type": "markdown",
   "metadata": {},
   "source": [
    "##### The \\__init\\__() Method for a Child Class - super()"
   ]
  },
  {
   "cell_type": "code",
   "execution_count": null,
   "metadata": {
    "scrolled": true
   },
   "outputs": [],
   "source": []
  },
  {
   "cell_type": "markdown",
   "metadata": {},
   "source": [
    "##### Defining Attributes and Methods for the Child Class"
   ]
  },
  {
   "cell_type": "code",
   "execution_count": null,
   "metadata": {},
   "outputs": [],
   "source": [
    "# See Above"
   ]
  },
  {
   "cell_type": "markdown",
   "metadata": {},
   "source": [
    "##### Method Overriding"
   ]
  },
  {
   "cell_type": "code",
   "execution_count": null,
   "metadata": {},
   "outputs": [],
   "source": [
    "# See Above"
   ]
  },
  {
   "cell_type": "markdown",
   "metadata": {},
   "source": [
    "## Classes as Attributes <br>\n",
    "<p>Classes can also be used as attributes within another class. This is useful in situations where you need to keep variables locally stored, instead of globally stored.</p>"
   ]
  },
  {
   "cell_type": "code",
   "execution_count": null,
   "metadata": {},
   "outputs": [],
   "source": []
  },
  {
   "cell_type": "markdown",
   "metadata": {},
   "source": [
    "# Exercises"
   ]
  },
  {
   "cell_type": "markdown",
   "metadata": {},
   "source": [
    "### Exercise 1 - Turn the shopping cart program from yesterday into an object-oriented program\n",
    "\n",
    "The comments in the cell below are there as a guide for thinking about the problem. However, if you feel a different way is best for you and your own thought process, please do what feels best for you by all means."
   ]
  },
  {
   "cell_type": "code",
   "execution_count": null,
   "metadata": {},
   "outputs": [],
   "source": [
    "# Create a class called cart that retains items and has methods to add, remove, and show\n",
    "\n",
    "class Cart():\n",
    "    pass\n",
    "    "
   ]
  },
  {
   "cell_type": "markdown",
   "metadata": {},
   "source": [
    "### Exercise 2 - Write a Python class which has two methods get_String and print_String. get_String accept a string from the user and print_String print the string in upper case"
   ]
  },
  {
   "cell_type": "code",
   "execution_count": null,
   "metadata": {},
   "outputs": [],
   "source": []
  }
 ],
 "metadata": {
  "kernelspec": {
   "display_name": "Python 3 (ipykernel)",
   "language": "python",
   "name": "python3"
  },
  "language_info": {
   "codemirror_mode": {
    "name": "ipython",
    "version": 3
   },
   "file_extension": ".py",
   "mimetype": "text/x-python",
   "name": "python",
   "nbconvert_exporter": "python",
   "pygments_lexer": "ipython3",
   "version": "3.9.4"
  }
 },
 "nbformat": 4,
 "nbformat_minor": 2
}
